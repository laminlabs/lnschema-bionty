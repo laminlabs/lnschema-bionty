{
 "cells": [
  {
   "cell_type": "markdown",
   "id": "2ee23aa0-22e1-45ae-8fe4-392702f95de5",
   "metadata": {},
   "source": [
    "# All models"
   ]
  },
  {
   "cell_type": "code",
   "execution_count": null,
   "id": "9667c97e-8f2f-4fc9-9a97-9eed0361919d",
   "metadata": {},
   "outputs": [],
   "source": [
    "from lndb_schema_biology.bionty import (\n",
    "    gene,\n",
    "    geneset,\n",
    "    geneset_gene,\n",
    "    protein,\n",
    "    proteinset,\n",
    "    proteinset_protein,\n",
    "    species,\n",
    ")"
   ]
  },
  {
   "cell_type": "code",
   "execution_count": null,
   "id": "c7d0beb9",
   "metadata": {},
   "outputs": [],
   "source": [
    "gene()"
   ]
  },
  {
   "cell_type": "code",
   "execution_count": null,
   "id": "f62cc02e-c0a9-4f55-b806-ec851659d56d",
   "metadata": {},
   "outputs": [],
   "source": [
    "geneset()"
   ]
  },
  {
   "cell_type": "code",
   "execution_count": null,
   "id": "89141bf7-4d8c-4baa-a15d-a76f829097e0",
   "metadata": {},
   "outputs": [],
   "source": [
    "geneset_gene()"
   ]
  },
  {
   "cell_type": "code",
   "execution_count": null,
   "id": "4f06df7f-a34f-4832-a6b7-238c4a72382e",
   "metadata": {},
   "outputs": [],
   "source": [
    "protein()"
   ]
  },
  {
   "cell_type": "code",
   "execution_count": null,
   "id": "86ab44aa-0c5f-4b67-9196-fda8e0b6bb3b",
   "metadata": {},
   "outputs": [],
   "source": [
    "proteinset()"
   ]
  },
  {
   "cell_type": "code",
   "execution_count": null,
   "id": "7da7ddde-463f-44d3-9733-f447ee9053b1",
   "metadata": {},
   "outputs": [],
   "source": [
    "proteinset_protein()"
   ]
  },
  {
   "cell_type": "code",
   "execution_count": null,
   "id": "6943d053",
   "metadata": {},
   "outputs": [],
   "source": [
    "species()"
   ]
  }
 ],
 "metadata": {
  "kernelspec": {
   "display_name": "Python 3.9.12 ('base1')",
   "language": "python",
   "name": "python3"
  },
  "language_info": {
   "codemirror_mode": {
    "name": "ipython",
    "version": 3
   },
   "file_extension": ".py",
   "mimetype": "text/x-python",
   "name": "python",
   "nbconvert_exporter": "python",
   "pygments_lexer": "ipython3",
   "version": "3.9.12"
  },
  "vscode": {
   "interpreter": {
    "hash": "2775e555cdc2d728c54aa22130c79afb1fa4da64f22f2fc6dcc2aa346c4e0672"
   }
  }
 },
 "nbformat": 4,
 "nbformat_minor": 5
}
