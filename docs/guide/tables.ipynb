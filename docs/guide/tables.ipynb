{
 "cells": [
  {
   "cell_type": "markdown",
   "id": "2ee23aa0-22e1-45ae-8fe4-392702f95de5",
   "metadata": {},
   "source": [
    "# Tables"
   ]
  },
  {
   "cell_type": "code",
   "execution_count": null,
   "id": "9667c97e-8f2f-4fc9-9a97-9eed0361919d",
   "metadata": {},
   "outputs": [],
   "source": [
    "from lnschema_bionty import Gene, Protein, Species, CellType"
   ]
  },
  {
   "cell_type": "code",
   "execution_count": null,
   "id": "ba94d545",
   "metadata": {},
   "outputs": [],
   "source": [
    "Species()"
   ]
  },
  {
   "cell_type": "code",
   "execution_count": null,
   "id": "98b113bc",
   "metadata": {},
   "outputs": [],
   "source": [
    "species = Species(common_name=\"human\")"
   ]
  },
  {
   "cell_type": "code",
   "execution_count": null,
   "id": "306f3d5b",
   "metadata": {},
   "outputs": [],
   "source": [
    "species"
   ]
  },
  {
   "cell_type": "code",
   "execution_count": null,
   "id": "8aa65062",
   "metadata": {},
   "outputs": [],
   "source": [
    "assert species.taxon_id == \"9606\""
   ]
  },
  {
   "cell_type": "code",
   "execution_count": null,
   "id": "06582ada",
   "metadata": {},
   "outputs": [],
   "source": [
    "Gene()"
   ]
  },
  {
   "cell_type": "code",
   "execution_count": null,
   "id": "4f06df7f-a34f-4832-a6b7-238c4a72382e",
   "metadata": {},
   "outputs": [],
   "source": [
    "Protein()"
   ]
  },
  {
   "cell_type": "code",
   "execution_count": null,
   "id": "1cc37055",
   "metadata": {},
   "outputs": [],
   "source": [
    "CellType()"
   ]
  },
  {
   "cell_type": "code",
   "execution_count": null,
   "id": "ba785fa9",
   "metadata": {},
   "outputs": [],
   "source": [
    "CellType(name=\"T cell\")"
   ]
  },
  {
   "cell_type": "code",
   "execution_count": null,
   "id": "0e7b8773",
   "metadata": {},
   "outputs": [],
   "source": [
    "CellType(name=\"T cell xxx\", ontology_id=\"x\")"
   ]
  }
 ],
 "metadata": {
  "kernelspec": {
   "display_name": "Python 3.9.13 ('py39')",
   "language": "python",
   "name": "python3"
  },
  "language_info": {
   "codemirror_mode": {
    "name": "ipython",
    "version": 3
   },
   "file_extension": ".py",
   "mimetype": "text/x-python",
   "name": "python",
   "nbconvert_exporter": "python",
   "pygments_lexer": "ipython3",
   "version": "3.9.13"
  },
  "vscode": {
   "interpreter": {
    "hash": "ae1fefc8646a06dd2e75004cd934adda7c5727b046986a772e3b44b0ffba9754"
   }
  }
 },
 "nbformat": 4,
 "nbformat_minor": 5
}
