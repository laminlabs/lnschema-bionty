{
 "cells": [
  {
   "cell_type": "markdown",
   "id": "2ee23aa0-22e1-45ae-8fe4-392702f95de5",
   "metadata": {},
   "source": [
    "# Tables"
   ]
  },
  {
   "cell_type": "code",
   "execution_count": null,
   "id": "9667c97e-8f2f-4fc9-9a97-9eed0361919d",
   "metadata": {},
   "outputs": [],
   "source": [
    "from lnschema_bionty import (\n",
    "    Gene,\n",
    "    Protein,\n",
    "    Species,\n",
    ")"
   ]
  },
  {
   "cell_type": "code",
   "execution_count": null,
   "id": "6943d053",
   "metadata": {},
   "outputs": [],
   "source": [
    "Species()"
   ]
  },
  {
   "cell_type": "code",
   "execution_count": null,
   "id": "0e302b59",
   "metadata": {},
   "outputs": [],
   "source": [
    "species = Species(common_name=\"human\")"
   ]
  },
  {
   "cell_type": "code",
   "execution_count": null,
   "id": "8aa65062",
   "metadata": {},
   "outputs": [],
   "source": [
    "assert species.taxon_id == \"9606\""
   ]
  },
  {
   "cell_type": "code",
   "execution_count": null,
   "id": "06582ada",
   "metadata": {},
   "outputs": [],
   "source": [
    "Gene()"
   ]
  },
  {
   "cell_type": "code",
   "execution_count": null,
   "id": "4f06df7f-a34f-4832-a6b7-238c4a72382e",
   "metadata": {},
   "outputs": [],
   "source": [
    "Protein()"
   ]
  }
 ],
 "metadata": {
  "kernelspec": {
   "display_name": "Python 3.9.12 ('base1')",
   "language": "python",
   "name": "python3"
  },
  "language_info": {
   "codemirror_mode": {
    "name": "ipython",
    "version": 3
   },
   "file_extension": ".py",
   "mimetype": "text/x-python",
   "name": "python",
   "nbconvert_exporter": "python",
   "pygments_lexer": "ipython3",
   "version": "3.9.12"
  },
  "vscode": {
   "interpreter": {
    "hash": "2775e555cdc2d728c54aa22130c79afb1fa4da64f22f2fc6dcc2aa346c4e0672"
   }
  }
 },
 "nbformat": 4,
 "nbformat_minor": 5
}
