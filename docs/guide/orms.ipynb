{
 "cells": [
  {
   "attachments": {},
   "cell_type": "markdown",
   "id": "2ee23aa0-22e1-45ae-8fe4-392702f95de5",
   "metadata": {},
   "source": [
    "# `lnschema_bionty`: Overview"
   ]
  },
  {
   "cell_type": "code",
   "execution_count": null,
   "id": "01c41a39",
   "metadata": {
    "tags": [
     "hide-cell"
    ]
   },
   "outputs": [],
   "source": [
    "!lamin init --storage lnbionty-test --schema bionty"
   ]
  },
  {
   "cell_type": "code",
   "execution_count": null,
   "id": "7c47093c",
   "metadata": {},
   "outputs": [],
   "source": [
    "import lamindb as ln\n",
    "import lnschema_bionty as bt\n",
    "import pandas as pd"
   ]
  },
  {
   "attachments": {},
   "cell_type": "markdown",
   "id": "160a59ec",
   "metadata": {},
   "source": [
    "## Create a SQL record\n",
    "\n",
    "This works like any other ORMs"
   ]
  },
  {
   "cell_type": "code",
   "execution_count": null,
   "id": "1bd5ab84",
   "metadata": {},
   "outputs": [],
   "source": [
    "bt.Species()"
   ]
  },
  {
   "cell_type": "code",
   "execution_count": null,
   "id": "3d57e3c6",
   "metadata": {},
   "outputs": [],
   "source": [
    "bt.Gene()"
   ]
  },
  {
   "cell_type": "code",
   "execution_count": null,
   "id": "6de888a5",
   "metadata": {},
   "outputs": [],
   "source": [
    "bt.CellType()"
   ]
  },
  {
   "cell_type": "code",
   "execution_count": null,
   "id": "089c0849",
   "metadata": {},
   "outputs": [],
   "source": [
    "bt.CellType(name=\"my T cell\", ontology_id=\"my_ontology_id\")"
   ]
  },
  {
   "attachments": {},
   "cell_type": "markdown",
   "id": "987ca440",
   "metadata": {},
   "source": [
    "## Create a SQL record with knowledge coupling\n",
    "\n",
    "With configured database and version for each entity (see [Bionty Configuration](https://lamin.ai/docs/bionty/guide/config)), all other fields can be auto populated given one field value."
   ]
  },
  {
   "cell_type": "code",
   "execution_count": null,
   "id": "8b392f09",
   "metadata": {},
   "outputs": [],
   "source": [
    "bt.Species(name=\"mouse\")"
   ]
  },
  {
   "cell_type": "code",
   "execution_count": null,
   "id": "59088c68",
   "metadata": {},
   "outputs": [],
   "source": [
    "bt.CellType(name=\"T cell\")"
   ]
  },
  {
   "attachments": {},
   "cell_type": "markdown",
   "id": "e4659728",
   "metadata": {},
   "source": [
    "```{tip}\n",
    "\n",
    "Auto population can be turned off with `knowledge_coupling=False`\n",
    "```"
   ]
  },
  {
   "cell_type": "code",
   "execution_count": null,
   "id": "5313754f",
   "metadata": {},
   "outputs": [],
   "source": [
    "bt.CellType(name=\"T cell\", knowledge_coupling=False)"
   ]
  },
  {
   "attachments": {},
   "cell_type": "markdown",
   "id": "bc8481cf",
   "metadata": {},
   "source": [
    "```{note}\n",
    "\n",
    "For feature entities: `Gene`, `Protein` and `CellMarker`: auto-population works by specifying the `species` first.\n",
    "```"
   ]
  },
  {
   "cell_type": "code",
   "execution_count": null,
   "id": "5ad77d01",
   "metadata": {},
   "outputs": [],
   "source": [
    "bt.Gene(symbol=\"TCF7\")"
   ]
  },
  {
   "cell_type": "code",
   "execution_count": null,
   "id": "ae5a822f",
   "metadata": {},
   "outputs": [],
   "source": [
    "bt.Gene(species=\"mouse\")(symbol=\"TCF7\")"
   ]
  },
  {
   "attachments": {},
   "cell_type": "markdown",
   "id": "0c95f95e",
   "metadata": {},
   "source": [
    "## Access bionty functionalities"
   ]
  },
  {
   "attachments": {},
   "cell_type": "markdown",
   "id": "4e141ff4",
   "metadata": {},
   "source": [
    "```{note}\n",
    "\n",
    "You may use the lnschema-bionty class the same way as a [bionty class](https://lamin.ai/docs/bionty/guide)!\n",
    "```"
   ]
  },
  {
   "cell_type": "code",
   "execution_count": null,
   "id": "ea30c7f8",
   "metadata": {},
   "outputs": [],
   "source": [
    "bt.Species.lookup.giant_panda"
   ]
  },
  {
   "cell_type": "code",
   "execution_count": null,
   "id": "ca3fb57c",
   "metadata": {},
   "outputs": [],
   "source": [
    "bt.Species.df.head()"
   ]
  },
  {
   "cell_type": "code",
   "execution_count": null,
   "id": "5417221c",
   "metadata": {},
   "outputs": [],
   "source": [
    "bt.Species.curate(pd.DataFrame(index=[\"human\", \"mouse\"]))"
   ]
  },
  {
   "cell_type": "code",
   "execution_count": null,
   "id": "22b693dd",
   "metadata": {},
   "outputs": [],
   "source": [
    "gene = bt.Gene(species=\"human\")"
   ]
  },
  {
   "cell_type": "code",
   "execution_count": null,
   "id": "7870a134",
   "metadata": {},
   "outputs": [],
   "source": [
    "gene.df.head()"
   ]
  },
  {
   "cell_type": "code",
   "execution_count": null,
   "id": "2b101060",
   "metadata": {},
   "outputs": [],
   "source": [
    "gene.curate(pd.DataFrame(index=[\"TCF7\", \"CCR5\"]), reference_id=\"symbol\")"
   ]
  },
  {
   "attachments": {},
   "cell_type": "markdown",
   "id": "1198f949",
   "metadata": {},
   "source": [
    "## Diagram"
   ]
  },
  {
   "cell_type": "code",
   "execution_count": null,
   "id": "14a6029f",
   "metadata": {},
   "outputs": [],
   "source": [
    "ln.schema.view()"
   ]
  }
 ],
 "metadata": {
  "kernelspec": {
   "display_name": "Python 3 (ipykernel)",
   "language": "python",
   "name": "python3"
  },
  "language_info": {
   "codemirror_mode": {
    "name": "ipython",
    "version": 3
   },
   "file_extension": ".py",
   "mimetype": "text/x-python",
   "name": "python",
   "nbconvert_exporter": "python",
   "pygments_lexer": "ipython3",
   "version": "3.9.13"
  },
  "vscode": {
   "interpreter": {
    "hash": "ae1fefc8646a06dd2e75004cd934adda7c5727b046986a772e3b44b0ffba9754"
   }
  }
 },
 "nbformat": 4,
 "nbformat_minor": 5
}
