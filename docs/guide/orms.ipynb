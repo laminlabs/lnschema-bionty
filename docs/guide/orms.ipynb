{
 "cells": [
  {
   "attachments": {},
   "cell_type": "markdown",
   "id": "2ee23aa0-22e1-45ae-8fe4-392702f95de5",
   "metadata": {},
   "source": [
    "# ORMs"
   ]
  },
  {
   "cell_type": "code",
   "execution_count": null,
   "id": "9667c97e-8f2f-4fc9-9a97-9eed0361919d",
   "metadata": {},
   "outputs": [],
   "source": [
    "from lnschema_bionty import Gene, Protein, Species, CellType"
   ]
  },
  {
   "cell_type": "code",
   "execution_count": null,
   "id": "ba94d545",
   "metadata": {},
   "outputs": [],
   "source": [
    "Species()"
   ]
  },
  {
   "cell_type": "code",
   "execution_count": null,
   "id": "306f3d5b",
   "metadata": {},
   "outputs": [],
   "source": [
    "species = Species(name=\"human\")\n",
    "\n",
    "species"
   ]
  },
  {
   "cell_type": "code",
   "execution_count": null,
   "id": "8aa65062",
   "metadata": {},
   "outputs": [],
   "source": [
    "assert species.taxon_id == 9606"
   ]
  },
  {
   "cell_type": "code",
   "execution_count": null,
   "id": "ab94a594",
   "metadata": {},
   "outputs": [],
   "source": [
    "Species.database"
   ]
  },
  {
   "cell_type": "code",
   "execution_count": null,
   "id": "31c4cddd",
   "metadata": {},
   "outputs": [],
   "source": [
    "Species.version"
   ]
  },
  {
   "cell_type": "code",
   "execution_count": null,
   "id": "796bd40d",
   "metadata": {
    "tags": [
     "hide-cell"
    ]
   },
   "outputs": [],
   "source": [
    "import pandas as pd"
   ]
  },
  {
   "cell_type": "code",
   "execution_count": null,
   "id": "23e3150a",
   "metadata": {},
   "outputs": [],
   "source": [
    "Species.curate(pd.DataFrame(index=[\"human\", \"mouse\"]))"
   ]
  },
  {
   "cell_type": "code",
   "execution_count": null,
   "id": "83430d16",
   "metadata": {},
   "outputs": [],
   "source": [
    "Species.lookup.rabbit"
   ]
  },
  {
   "cell_type": "code",
   "execution_count": null,
   "id": "47444610",
   "metadata": {},
   "outputs": [],
   "source": [
    "Species.df.head()"
   ]
  },
  {
   "cell_type": "code",
   "execution_count": null,
   "id": "06582ada",
   "metadata": {},
   "outputs": [],
   "source": [
    "Gene()"
   ]
  },
  {
   "cell_type": "code",
   "execution_count": null,
   "id": "4f06df7f-a34f-4832-a6b7-238c4a72382e",
   "metadata": {},
   "outputs": [],
   "source": [
    "Protein()"
   ]
  },
  {
   "cell_type": "code",
   "execution_count": null,
   "id": "1cc37055",
   "metadata": {},
   "outputs": [],
   "source": [
    "CellType()"
   ]
  },
  {
   "cell_type": "code",
   "execution_count": null,
   "id": "ba785fa9",
   "metadata": {},
   "outputs": [],
   "source": [
    "record = CellType(name=\"T cell\")\n",
    "\n",
    "record"
   ]
  },
  {
   "cell_type": "code",
   "execution_count": null,
   "id": "dde3b7cb",
   "metadata": {},
   "outputs": [],
   "source": [
    "assert record.id == \"CL:0000084\"\n",
    "assert record.ontology_id == \"CL:0000084\""
   ]
  },
  {
   "cell_type": "code",
   "execution_count": null,
   "id": "0e7b8773",
   "metadata": {},
   "outputs": [],
   "source": [
    "CellType(name=\"my T cell\", ontology_id=\"my_ontology_id\")"
   ]
  }
 ],
 "metadata": {
  "kernelspec": {
   "display_name": "Python 3 (ipykernel)",
   "language": "python",
   "name": "python3"
  },
  "language_info": {
   "codemirror_mode": {
    "name": "ipython",
    "version": 3
   },
   "file_extension": ".py",
   "mimetype": "text/x-python",
   "name": "python",
   "nbconvert_exporter": "python",
   "pygments_lexer": "ipython3",
   "version": "3.9.13"
  },
  "vscode": {
   "interpreter": {
    "hash": "ae1fefc8646a06dd2e75004cd934adda7c5727b046986a772e3b44b0ffba9754"
   }
  }
 },
 "nbformat": 4,
 "nbformat_minor": 5
}
