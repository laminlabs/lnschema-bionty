{
 "cells": [
  {
   "attachments": {},
   "cell_type": "markdown",
   "id": "2ee23aa0-22e1-45ae-8fe4-392702f95de5",
   "metadata": {},
   "source": [
    "# `lnschema_bionty`: Overview"
   ]
  },
  {
   "cell_type": "code",
   "execution_count": null,
   "id": "2ea66673",
   "metadata": {},
   "outputs": [],
   "source": [
    "import lamindb as ln\n",
    "import lnschema_bionty as bt\n",
    "import pandas as pd"
   ]
  },
  {
   "attachments": {},
   "cell_type": "markdown",
   "id": "1198f949",
   "metadata": {},
   "source": [
    "## Diagram"
   ]
  },
  {
   "cell_type": "code",
   "execution_count": null,
   "id": "14a6029f",
   "metadata": {},
   "outputs": [],
   "source": [
    "ln.schema.view()"
   ]
  },
  {
   "cell_type": "code",
   "execution_count": null,
   "id": "ba94d545",
   "metadata": {},
   "outputs": [],
   "source": [
    "bt.Species()"
   ]
  },
  {
   "cell_type": "markdown",
   "id": "f98fe18d",
   "metadata": {},
   "source": [
    "## Knowledge coupling"
   ]
  },
  {
   "cell_type": "code",
   "execution_count": null,
   "id": "306f3d5b",
   "metadata": {},
   "outputs": [],
   "source": [
    "species = bt.Species(name=\"human\")\n",
    "\n",
    "species"
   ]
  },
  {
   "cell_type": "code",
   "execution_count": null,
   "id": "8aa65062",
   "metadata": {},
   "outputs": [],
   "source": [
    "assert species.taxon_id == 9606"
   ]
  },
  {
   "cell_type": "code",
   "execution_count": null,
   "id": "ab94a594",
   "metadata": {},
   "outputs": [],
   "source": [
    "bt.Species.database"
   ]
  },
  {
   "cell_type": "code",
   "execution_count": null,
   "id": "31c4cddd",
   "metadata": {},
   "outputs": [],
   "source": [
    "bt.Species.version"
   ]
  },
  {
   "cell_type": "markdown",
   "id": "01af4db6",
   "metadata": {},
   "source": [
    "## Curation"
   ]
  },
  {
   "cell_type": "code",
   "execution_count": null,
   "id": "23e3150a",
   "metadata": {},
   "outputs": [],
   "source": [
    "bt.Species.curate(pd.DataFrame(index=[\"human\", \"mouse\"]))"
   ]
  },
  {
   "cell_type": "markdown",
   "id": "a3e4e15e",
   "metadata": {},
   "source": [
    "## Lookups"
   ]
  },
  {
   "cell_type": "code",
   "execution_count": null,
   "id": "83430d16",
   "metadata": {},
   "outputs": [],
   "source": [
    "bt.Species.lookup.rabbit"
   ]
  },
  {
   "cell_type": "markdown",
   "id": "f6679a2a",
   "metadata": {},
   "source": [
    "## Examples"
   ]
  },
  {
   "cell_type": "code",
   "execution_count": null,
   "id": "47444610",
   "metadata": {},
   "outputs": [],
   "source": [
    "bt.Species.df.head()"
   ]
  },
  {
   "cell_type": "code",
   "execution_count": null,
   "id": "06582ada",
   "metadata": {},
   "outputs": [],
   "source": [
    "bt.Gene()"
   ]
  },
  {
   "cell_type": "code",
   "execution_count": null,
   "id": "4f06df7f-a34f-4832-a6b7-238c4a72382e",
   "metadata": {},
   "outputs": [],
   "source": [
    "bt.Protein()"
   ]
  },
  {
   "cell_type": "code",
   "execution_count": null,
   "id": "1cc37055",
   "metadata": {},
   "outputs": [],
   "source": [
    "bt.CellType()"
   ]
  },
  {
   "cell_type": "code",
   "execution_count": null,
   "id": "ba785fa9",
   "metadata": {},
   "outputs": [],
   "source": [
    "record = bt.CellType(name=\"T cell\")\n",
    "\n",
    "record"
   ]
  },
  {
   "cell_type": "code",
   "execution_count": null,
   "id": "dde3b7cb",
   "metadata": {},
   "outputs": [],
   "source": [
    "assert record.id == \"CL:0000084\"\n",
    "assert record.ontology_id == \"CL:0000084\""
   ]
  },
  {
   "cell_type": "code",
   "execution_count": null,
   "id": "0e7b8773",
   "metadata": {},
   "outputs": [],
   "source": [
    "bt.CellType(name=\"my T cell\", ontology_id=\"my_ontology_id\")"
   ]
  }
 ],
 "metadata": {
  "kernelspec": {
   "display_name": "Python 3 (ipykernel)",
   "language": "python",
   "name": "python3"
  },
  "language_info": {
   "codemirror_mode": {
    "name": "ipython",
    "version": 3
   },
   "file_extension": ".py",
   "mimetype": "text/x-python",
   "name": "python",
   "nbconvert_exporter": "python",
   "pygments_lexer": "ipython3",
   "version": "3.9.13"
  },
  "vscode": {
   "interpreter": {
    "hash": "ae1fefc8646a06dd2e75004cd934adda7c5727b046986a772e3b44b0ffba9754"
   }
  }
 },
 "nbformat": 4,
 "nbformat_minor": 5
}
